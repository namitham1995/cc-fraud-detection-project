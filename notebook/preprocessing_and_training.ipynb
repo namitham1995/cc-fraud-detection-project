{
 "cells": [
  {
   "cell_type": "code",
   "execution_count": null,
   "id": "b159fba2",
   "metadata": {
    "vscode": {
     "languageId": "plaintext"
    }
   },
   "outputs": [],
   "source": [
    "import boto3\n",
    "import pandas as pd\n",
    "import json\n",
    "import sagemaker\n",
    "from sagemaker.inputs import TrainingInput\n",
    "from sagemaker.sklearn.estimator import SKLearn\n",
    "from sagemaker.sklearn.model import SKLearnModel\n"
   ]
  },
  {
   "cell_type": "code",
   "execution_count": null,
   "id": "9d558cfc",
   "metadata": {
    "vscode": {
     "languageId": "plaintext"
    }
   },
   "outputs": [],
   "source": [
    "sagemaker_session = sagemaker.Session()\n",
    "role = sagemaker.get_execution_role()\n",
    "bucket = \"creditcard-pipeline-bucket\"\n",
    "prefix = \"processed\"\n",
    "\n",
    "train_input = TrainingInput(f\"s3://{bucket}/{prefix}/train.csv\", content_type=\"text/csv\")\n",
    "test_input = TrainingInput(f\"s3://{bucket}/{prefix}/test.csv\", content_type=\"text/csv\")\n"
   ]
  },
  {
   "cell_type": "code",
   "execution_count": null,
   "id": "4512cca5",
   "metadata": {
    "vscode": {
     "languageId": "plaintext"
    }
   },
   "outputs": [],
   "source": [
    "\n",
    "sklearn_estimator = SKLearn(\n",
    "    entry_point=\"train_model.py\",\n",
    "    role=role,\n",
    "    instance_count=1,\n",
    "    instance_type=\"ml.m5.large\",\n",
    "    framework_version=\"1.0-1\",\n",
    "    py_version=\"py3\",\n",
    "    sagemaker_session=sagemaker_session\n",
    ")\n",
    "\n",
    "sklearn_estimator.fit({\"train\": train_input, \"test\": test_input})\n"
   ]
  },
  {
   "cell_type": "code",
   "execution_count": null,
   "id": "d113b381",
   "metadata": {
    "vscode": {
     "languageId": "plaintext"
    }
   },
   "outputs": [],
   "source": [
    "sk_model = SKLearnModel(\n",
    "    model_data=sklearn_estimator.model_data,\n",
    "    role=role,\n",
    "    entry_point=\"inference.py\",\n",
    "    framework_version=\"1.0-1\",\n",
    "    py_version=\"py3\"\n",
    ")\n",
    "\n",
    "predictor = sk_model.deploy(\n",
    "    initial_instance_count=1,\n",
    "    instance_type=\"ml.m5.large\",\n",
    "    endpoint_name=\"creditcard-endpoint\"\n",
    ")\n"
   ]
  },
  {
   "cell_type": "code",
   "execution_count": null,
   "id": "65514b9c",
   "metadata": {
    "vscode": {
     "languageId": "plaintext"
    }
   },
   "outputs": [],
   "source": [
    "# Example of single transaction\n",
    "test_data = [\n",
    "    {\"Time\": 0, \"V1\": -1.359807, \"V2\": -0.072781, \"V3\": 2.536346, \"V4\": 1.378155,\n",
    "     \"V5\": -0.338321, \"V6\": 0.462388, \"V7\": 0.239599, \"V8\": 0.098698, \"V9\": 0.363787,\n",
    "     \"V10\": 0.090794, \"V11\": -0.551600, \"V12\": -0.617801, \"V13\": -0.991390, \"V14\": -0.311169,\n",
    "     \"V15\": 1.468177, \"V16\": -0.470401, \"V17\": 0.207971, \"V18\": 0.025791, \"V19\": 0.403993,\n",
    "     \"V20\": 0.251412, \"V21\": -0.018307, \"V22\": 0.277838, \"V23\": -0.110474, \"V24\": 0.066928,\n",
    "     \"V25\": 0.128539, \"V26\": -0.189115, \"V27\": 0.133558, \"V28\": -0.021053, \"Amount\": 149.62}\n",
    "]\n",
    "\n",
    "payload = json.dumps(test_data)\n",
    "runtime = boto3.client('sagemaker-runtime')\n",
    "endpoint_name = 'creditcard-endpoint'\n",
    "\n",
    "response = runtime.invoke_endpoint(\n",
    "    EndpointName=endpoint_name,\n",
    "    ContentType='application/json',\n",
    "    Body=payload\n",
    ")\n",
    "\n",
    "result = json.loads(response['Body'].read().decode())\n",
    "print(\"Prediction:\", result)\n"
   ]
  },
  {
   "cell_type": "code",
   "execution_count": null,
   "id": "984afb2a",
   "metadata": {
    "vscode": {
     "languageId": "plaintext"
    }
   },
   "outputs": [],
   "source": [
    "# Load processed test set\n",
    "test_df = pd.read_csv(f\"s3://{bucket}/{prefix}/test.csv\")\n",
    "\n",
    "# Pick a fraud row\n",
    "fraud_row = test_df[test_df['Class'] == 1].iloc[0]\n",
    "features_only = fraud_row.drop('Class')\n",
    "\n",
    "payload = [features_only.values.tolist()]\n",
    "response = runtime.invoke_endpoint(\n",
    "    EndpointName=endpoint_name,\n",
    "    ContentType='application/json',\n",
    "    Body=json.dumps(payload)\n",
    ")\n",
    "print(\"Raw model output:\", response['Body'].read().decode())\n"
   ]
  }
 ],
 "metadata": {
  "language_info": {
   "name": "python"
  }
 },
 "nbformat": 4,
 "nbformat_minor": 5
}
